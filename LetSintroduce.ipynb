{
  "nbformat": 4,
  "nbformat_minor": 0,
  "metadata": {
    "colab": {
      "provenance": [],
      "authorship_tag": "ABX9TyMQCN88s9ia3y88FmVh/nar",
      "include_colab_link": true
    },
    "kernelspec": {
      "name": "python3",
      "display_name": "Python 3"
    },
    "language_info": {
      "name": "python"
    }
  },
  "cells": [
    {
      "cell_type": "markdown",
      "metadata": {
        "id": "view-in-github",
        "colab_type": "text"
      },
      "source": [
        "<a href=\"https://colab.research.google.com/github/dvk69/Breast-Cancer-Prediction/blob/main/LetSintroduce.ipynb\" target=\"_parent\"><img src=\"https://colab.research.google.com/assets/colab-badge.svg\" alt=\"Open In Colab\"/></a>"
      ]
    },
    {
      "cell_type": "code",
      "execution_count": null,
      "metadata": {
        "id": "TlvwUUk2Wcwj"
      },
      "outputs": [],
      "source": []
    },
    {
      "cell_type": "code",
      "source": [
        "print(\"Hello world!\")"
      ],
      "metadata": {
        "colab": {
          "base_uri": "https://localhost:8080/"
        },
        "id": "riWkb-bgWg69",
        "outputId": "a2ad9c8a-d6f3-4aa4-fc5b-4a85148053f5"
      },
      "execution_count": 1,
      "outputs": [
        {
          "output_type": "stream",
          "name": "stdout",
          "text": [
            "Hello world!\n"
          ]
        }
      ]
    },
    {
      "cell_type": "code",
      "source": [
        "name = \"Vineeth\"\n",
        "age = \"26\"\n",
        "print(\"My name is\",name)\n",
        "print(\"My age is\", age)\n"
      ],
      "metadata": {
        "colab": {
          "base_uri": "https://localhost:8080/"
        },
        "id": "1bkzYKZuYFMn",
        "outputId": "f944ccb6-c536-4d37-8665-dcf1b117d474"
      },
      "execution_count": 4,
      "outputs": [
        {
          "output_type": "stream",
          "name": "stdout",
          "text": [
            "My name is Vineeth\n",
            "My age is 26\n"
          ]
        }
      ]
    },
    {
      "cell_type": "code",
      "source": [
        "user = input(\"What's your name?\")\n",
        "print(\"Welcome\",user,\"!\",\"Thank you for visiting my GitHub\")"
      ],
      "metadata": {
        "colab": {
          "base_uri": "https://localhost:8080/"
        },
        "id": "DViEXDtPY7tL",
        "outputId": "4937742a-e864-4545-df23-86f383f60252"
      },
      "execution_count": 7,
      "outputs": [
        {
          "output_type": "stream",
          "name": "stdout",
          "text": [
            "What's your name?user\n",
            "Welcome user ! Thank you for visiting my GitHub\n"
          ]
        }
      ]
    },
    {
      "cell_type": "code",
      "source": [
        "your_age= int(input(\"What's your age?\"))\n",
        "if your_age>=21:\n",
        "  print(\"You are an adult\")\n",
        "elif your_age<=13:\n",
        "    print(\"you are a kid\")\n",
        "else:\n",
        "      print(\"you are a teenager\")"
      ],
      "metadata": {
        "colab": {
          "base_uri": "https://localhost:8080/"
        },
        "id": "RTdqSbIQZ_WC",
        "outputId": "d43e4c4e-bfe2-4708-cc15-7b820d25d1a6"
      },
      "execution_count": 11,
      "outputs": [
        {
          "output_type": "stream",
          "name": "stdout",
          "text": [
            "What's your age?26\n",
            "You are an adult\n"
          ]
        }
      ]
    },
    {
      "cell_type": "code",
      "source": [],
      "metadata": {
        "id": "8E_N0gD9g9Ka"
      },
      "execution_count": null,
      "outputs": []
    }
  ]
}